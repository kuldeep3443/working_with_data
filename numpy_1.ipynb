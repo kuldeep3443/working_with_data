{
 "cells": [
  {
   "cell_type": "markdown",
   "metadata": {},
   "source": [
    "## numpy is a part of scientiic python\n",
    "## numpy means numerical python"
   ]
  },
  {
   "cell_type": "markdown",
   "metadata": {},
   "source": [
    "## Hello People"
   ]
  },
  {
   "cell_type": "code",
   "execution_count": 1,
   "metadata": {},
   "outputs": [],
   "source": [
    "# importing numpy library and giving some alias\n",
    "\n",
    "import numpy as np"
   ]
  },
  {
   "cell_type": "code",
   "execution_count": 9,
   "metadata": {},
   "outputs": [],
   "source": [
    "# random seed required for generating the same number again and again\n",
    "\n",
    "np.random.seed(321)"
   ]
  },
  {
   "cell_type": "code",
   "execution_count": 10,
   "metadata": {},
   "outputs": [],
   "source": [
    "num1 = 100"
   ]
  },
  {
   "cell_type": "code",
   "execution_count": 11,
   "metadata": {},
   "outputs": [],
   "source": [
    "# generating teh numpy array of 100 random numbers\n",
    "\n",
    "my_vec1 = np.random.random(num1)"
   ]
  },
  {
   "cell_type": "code",
   "execution_count": 12,
   "metadata": {},
   "outputs": [
    {
     "data": {
      "text/plain": [
       "array([0.88594794, 0.07791236, 0.97964616, 0.24767146, 0.75288472,\n",
       "       0.52667564, 0.90755375, 0.8840703 , 0.08926896, 0.5173446 ,\n",
       "       0.34362129, 0.21229369, 0.36067344, 0.27077517, 0.76162502,\n",
       "       0.4780419 , 0.09899468, 0.27539478, 0.79442731, 0.51397031,\n",
       "       0.45329481, 0.25515125, 0.1139766 , 0.82431305, 0.3177535 ,\n",
       "       0.15230703, 0.21497959, 0.91211032, 0.04311515, 0.37595241,\n",
       "       0.31796557, 0.35403302, 0.93335757, 0.3885452 , 0.89593944,\n",
       "       0.14550322, 0.4903603 , 0.9233404 , 0.8013113 , 0.84837182,\n",
       "       0.66544598, 0.14321914, 0.11609391, 0.07739594, 0.38291192,\n",
       "       0.14642985, 0.44785731, 0.35552736, 0.43314193, 0.80080664,\n",
       "       0.35500568, 0.0477506 , 0.8495784 , 0.62342568, 0.14159893,\n",
       "       0.99707981, 0.43055091, 0.92260123, 0.23040647, 0.51684848,\n",
       "       0.74245013, 0.08755963, 0.20380958, 0.5563697 , 0.0069422 ,\n",
       "       0.35661115, 0.84971676, 0.09130986, 0.1303308 , 0.81932886,\n",
       "       0.71126234, 0.51564004, 0.32849226, 0.61874605, 0.82843957,\n",
       "       0.51893094, 0.65146536, 0.84698965, 0.47796507, 0.72038246,\n",
       "       0.7057224 , 0.77446474, 0.15782307, 0.10043526, 0.63983793,\n",
       "       0.12224158, 0.54364296, 0.42278257, 0.74938053, 0.0139759 ,\n",
       "       0.84925728, 0.77967445, 0.23807523, 0.87024043, 0.4436975 ,\n",
       "       0.18578928, 0.92726635, 0.1460104 , 0.56378288, 0.93859753])"
      ]
     },
     "execution_count": 12,
     "metadata": {},
     "output_type": "execute_result"
    }
   ],
   "source": [
    "my_vec1"
   ]
  },
  {
   "cell_type": "code",
   "execution_count": 13,
   "metadata": {},
   "outputs": [
    {
     "data": {
      "text/plain": [
       "100"
      ]
     },
     "execution_count": 13,
     "metadata": {},
     "output_type": "execute_result"
    }
   ],
   "source": [
    "len(my_vec1)"
   ]
  },
  {
   "cell_type": "code",
   "execution_count": 14,
   "metadata": {},
   "outputs": [
    {
     "data": {
      "text/plain": [
       "(100,)"
      ]
     },
     "execution_count": 14,
     "metadata": {},
     "output_type": "execute_result"
    }
   ],
   "source": [
    "my_vec1.shape"
   ]
  },
  {
   "cell_type": "code",
   "execution_count": 15,
   "metadata": {},
   "outputs": [],
   "source": [
    "my_vec2 = np.random.random(num1)"
   ]
  },
  {
   "cell_type": "code",
   "execution_count": 16,
   "metadata": {},
   "outputs": [
    {
     "data": {
      "text/plain": [
       "array([0.27252437, 0.67329434, 0.29752175, 0.94523024, 0.69800136,\n",
       "       0.73686196, 0.90785674, 0.09935024, 0.46364995, 0.01157659,\n",
       "       0.28233035, 0.78338054, 0.25434378, 0.30607078, 0.02847113,\n",
       "       0.54936515, 0.27133237, 0.18227085, 0.86569899, 0.1572856 ,\n",
       "       0.25520896, 0.65463995, 0.02260901, 0.96191309, 0.89761677,\n",
       "       0.12055008, 0.72209035, 0.95874496, 0.49427822, 0.93878644,\n",
       "       0.49775089, 0.55469921, 0.50195486, 0.83512841, 0.12229   ,\n",
       "       0.07838248, 0.44055401, 0.30117744, 0.84490842, 0.6701511 ,\n",
       "       0.79004593, 0.07935661, 0.65811604, 0.22104841, 0.35400993,\n",
       "       0.5907031 , 0.4987397 , 0.79043386, 0.47101146, 0.29128899,\n",
       "       0.4731033 , 0.76386322, 0.77664361, 0.2221141 , 0.31762616,\n",
       "       0.46703065, 0.01646486, 0.68439524, 0.99824263, 0.87165704,\n",
       "       0.22810911, 0.93413736, 0.5757883 , 0.86053413, 0.436044  ,\n",
       "       0.78718024, 0.32520142, 0.36033667, 0.22822241, 0.93957394,\n",
       "       0.62380046, 0.29432755, 0.74226508, 0.3160454 , 0.04045823,\n",
       "       0.67078527, 0.12830017, 0.03962899, 0.79706585, 0.02366154,\n",
       "       0.35011718, 0.94574465, 0.18242699, 0.79296004, 0.06620952,\n",
       "       0.7747578 , 0.82456378, 0.87200825, 0.99618834, 0.6717979 ,\n",
       "       0.2049029 , 0.08739356, 0.7187092 , 0.22425527, 0.57666827,\n",
       "       0.78960262, 0.35221156, 0.60123469, 0.98414525, 0.18286028])"
      ]
     },
     "execution_count": 16,
     "metadata": {},
     "output_type": "execute_result"
    }
   ],
   "source": [
    "my_vec2"
   ]
  },
  {
   "cell_type": "markdown",
   "metadata": {},
   "source": [
    "## Non- Vectorized Implementation"
   ]
  },
  {
   "cell_type": "code",
   "execution_count": 17,
   "metadata": {},
   "outputs": [],
   "source": [
    "result1 =  0\n",
    "\n",
    "for x in range(num1):\n",
    "    result1 += my_vec1[x] * my_vec2[x]"
   ]
  },
  {
   "cell_type": "code",
   "execution_count": 18,
   "metadata": {},
   "outputs": [
    {
     "data": {
      "text/plain": [
       "23.8020093571907"
      ]
     },
     "execution_count": 18,
     "metadata": {},
     "output_type": "execute_result"
    }
   ],
   "source": [
    "result1"
   ]
  },
  {
   "cell_type": "markdown",
   "metadata": {},
   "source": [
    "## vectorized way"
   ]
  },
  {
   "cell_type": "code",
   "execution_count": 12,
   "metadata": {},
   "outputs": [],
   "source": [
    "result2 = np.dot(my_vec1,my_vec2)"
   ]
  },
  {
   "cell_type": "code",
   "execution_count": 13,
   "metadata": {},
   "outputs": [
    {
     "data": {
      "text/plain": [
       "23.8020093571907"
      ]
     },
     "execution_count": 13,
     "metadata": {},
     "output_type": "execute_result"
    }
   ],
   "source": [
    "result2"
   ]
  },
  {
   "cell_type": "code",
   "execution_count": 14,
   "metadata": {},
   "outputs": [],
   "source": [
    "np.random.seed(2)"
   ]
  },
  {
   "cell_type": "code",
   "execution_count": 15,
   "metadata": {},
   "outputs": [
    {
     "data": {
      "text/plain": [
       "array([0.4359949 , 0.02592623, 0.54966248, 0.43532239])"
      ]
     },
     "execution_count": 15,
     "metadata": {},
     "output_type": "execute_result"
    }
   ],
   "source": [
    "np.random.random(4)"
   ]
  },
  {
   "cell_type": "code",
   "execution_count": 16,
   "metadata": {},
   "outputs": [
    {
     "data": {
      "text/plain": [
       "array([0.4203678 , 0.33033482, 0.20464863, 0.61927097])"
      ]
     },
     "execution_count": 16,
     "metadata": {},
     "output_type": "execute_result"
    }
   ],
   "source": [
    "np.random.random(4)"
   ]
  },
  {
   "cell_type": "code",
   "execution_count": 17,
   "metadata": {},
   "outputs": [],
   "source": [
    "np.random.seed(2)"
   ]
  },
  {
   "cell_type": "code",
   "execution_count": 18,
   "metadata": {},
   "outputs": [
    {
     "data": {
      "text/plain": [
       "array([0.4359949 , 0.02592623, 0.54966248, 0.43532239])"
      ]
     },
     "execution_count": 18,
     "metadata": {},
     "output_type": "execute_result"
    }
   ],
   "source": [
    "np.random.random(4)"
   ]
  },
  {
   "cell_type": "code",
   "execution_count": 19,
   "metadata": {},
   "outputs": [],
   "source": [
    "# converting list to numpy array\n",
    "\n",
    "list1 = [3,1,2,6,5,7,8]"
   ]
  },
  {
   "cell_type": "code",
   "execution_count": 20,
   "metadata": {},
   "outputs": [
    {
     "data": {
      "text/plain": [
       "list"
      ]
     },
     "execution_count": 20,
     "metadata": {},
     "output_type": "execute_result"
    }
   ],
   "source": [
    "type(list1)"
   ]
  },
  {
   "cell_type": "code",
   "execution_count": 21,
   "metadata": {},
   "outputs": [],
   "source": [
    "my_np_array1 = np.array(list1)"
   ]
  },
  {
   "cell_type": "code",
   "execution_count": 22,
   "metadata": {},
   "outputs": [
    {
     "data": {
      "text/plain": [
       "numpy.ndarray"
      ]
     },
     "execution_count": 22,
     "metadata": {},
     "output_type": "execute_result"
    }
   ],
   "source": [
    "type(my_np_array1)"
   ]
  },
  {
   "cell_type": "code",
   "execution_count": 23,
   "metadata": {},
   "outputs": [
    {
     "data": {
      "text/plain": [
       "array([3, 1, 2, 6, 5, 7, 8])"
      ]
     },
     "execution_count": 23,
     "metadata": {},
     "output_type": "execute_result"
    }
   ],
   "source": [
    "my_np_array1"
   ]
  },
  {
   "cell_type": "code",
   "execution_count": 24,
   "metadata": {},
   "outputs": [],
   "source": [
    "np_matrix1 = np.mat('3,2,1;4,12,3;4,1,2')"
   ]
  },
  {
   "cell_type": "code",
   "execution_count": 25,
   "metadata": {},
   "outputs": [
    {
     "data": {
      "text/plain": [
       "matrix([[ 3,  2,  1],\n",
       "        [ 4, 12,  3],\n",
       "        [ 4,  1,  2]])"
      ]
     },
     "execution_count": 25,
     "metadata": {},
     "output_type": "execute_result"
    }
   ],
   "source": [
    "np_matrix1"
   ]
  },
  {
   "cell_type": "code",
   "execution_count": 26,
   "metadata": {},
   "outputs": [
    {
     "data": {
      "text/plain": [
       "matrix([[ 3,  4,  4],\n",
       "        [ 2, 12,  1],\n",
       "        [ 1,  3,  2]])"
      ]
     },
     "execution_count": 26,
     "metadata": {},
     "output_type": "execute_result"
    }
   ],
   "source": [
    "# transpose of a matrix\n",
    "np_matrix1.T"
   ]
  },
  {
   "cell_type": "code",
   "execution_count": 27,
   "metadata": {},
   "outputs": [
    {
     "data": {
      "text/plain": [
       "matrix([[ 3,  2,  1],\n",
       "        [ 4, 12,  3],\n",
       "        [ 4,  1,  2]])"
      ]
     },
     "execution_count": 27,
     "metadata": {},
     "output_type": "execute_result"
    }
   ],
   "source": [
    "np_matrix1"
   ]
  },
  {
   "cell_type": "code",
   "execution_count": 28,
   "metadata": {},
   "outputs": [
    {
     "data": {
      "text/plain": [
       "matrix([[ 0.77777778, -0.11111111, -0.22222222],\n",
       "        [ 0.14814815,  0.07407407, -0.18518519],\n",
       "        [-1.62962963,  0.18518519,  1.03703704]])"
      ]
     },
     "execution_count": 28,
     "metadata": {},
     "output_type": "execute_result"
    }
   ],
   "source": [
    "# for calculating the inverse of the matrix\n",
    "np.linalg.inv(np_matrix1)"
   ]
  },
  {
   "cell_type": "code",
   "execution_count": 29,
   "metadata": {},
   "outputs": [
    {
     "data": {
      "text/plain": [
       "27.000000000000014"
      ]
     },
     "execution_count": 29,
     "metadata": {},
     "output_type": "execute_result"
    }
   ],
   "source": [
    "# finding the determinant of the matrix.\n",
    "\n",
    "np.linalg.det(np_matrix1)"
   ]
  },
  {
   "cell_type": "code",
   "execution_count": 30,
   "metadata": {},
   "outputs": [],
   "source": [
    "# this way we can do type casting\n",
    "# type casting means converting one type to other type\n",
    "np_array1 = np.array([3,1,6,5,4,7],dtype=float)"
   ]
  },
  {
   "cell_type": "code",
   "execution_count": 31,
   "metadata": {},
   "outputs": [
    {
     "data": {
      "text/plain": [
       "array([3., 1., 6., 5., 4., 7.])"
      ]
     },
     "execution_count": 31,
     "metadata": {},
     "output_type": "execute_result"
    }
   ],
   "source": [
    "np_array1"
   ]
  },
  {
   "cell_type": "code",
   "execution_count": 32,
   "metadata": {},
   "outputs": [
    {
     "data": {
      "text/plain": [
       "dtype('float64')"
      ]
     },
     "execution_count": 32,
     "metadata": {},
     "output_type": "execute_result"
    }
   ],
   "source": [
    "np_array1.dtype"
   ]
  },
  {
   "cell_type": "code",
   "execution_count": 33,
   "metadata": {},
   "outputs": [],
   "source": [
    "# precedence of data is bool < int < float < string\n",
    "list2 = [4.3,2,1,True]"
   ]
  },
  {
   "cell_type": "code",
   "execution_count": 34,
   "metadata": {},
   "outputs": [
    {
     "data": {
      "text/plain": [
       "list"
      ]
     },
     "execution_count": 34,
     "metadata": {},
     "output_type": "execute_result"
    }
   ],
   "source": [
    "type(list2)"
   ]
  },
  {
   "cell_type": "code",
   "execution_count": 35,
   "metadata": {},
   "outputs": [],
   "source": [
    "np_array2 = np.array(list2)"
   ]
  },
  {
   "cell_type": "code",
   "execution_count": 36,
   "metadata": {},
   "outputs": [
    {
     "data": {
      "text/plain": [
       "dtype('float64')"
      ]
     },
     "execution_count": 36,
     "metadata": {},
     "output_type": "execute_result"
    }
   ],
   "source": [
    "np_array2.dtype"
   ]
  },
  {
   "cell_type": "code",
   "execution_count": 37,
   "metadata": {},
   "outputs": [],
   "source": [
    "np_string1 = np.array([3,1,5,4,6], dtype = 'U')"
   ]
  },
  {
   "cell_type": "code",
   "execution_count": 38,
   "metadata": {},
   "outputs": [
    {
     "data": {
      "text/plain": [
       "array(['3', '1', '5', '4', '6'], dtype='<U1')"
      ]
     },
     "execution_count": 38,
     "metadata": {},
     "output_type": "execute_result"
    }
   ],
   "source": [
    "np_string1"
   ]
  },
  {
   "cell_type": "code",
   "execution_count": 39,
   "metadata": {},
   "outputs": [],
   "source": [
    "# U means unicode that goes for string\n",
    "# U2 means it will only take 2 character of each element used for \n",
    " #creating np array from string\n",
    "np_string2 = np.array(['hello',197198,'dtaa',7979,193791],dtype='<U2')"
   ]
  },
  {
   "cell_type": "code",
   "execution_count": 40,
   "metadata": {},
   "outputs": [
    {
     "data": {
      "text/plain": [
       "array(['he', '19', 'dt', '79', '19'], dtype='<U2')"
      ]
     },
     "execution_count": 40,
     "metadata": {},
     "output_type": "execute_result"
    }
   ],
   "source": [
    "np_string2"
   ]
  },
  {
   "cell_type": "code",
   "execution_count": 41,
   "metadata": {},
   "outputs": [],
   "source": [
    "np_string3 = np.array(['hello','world',24242,'strada',2], dtype = 'U2')"
   ]
  },
  {
   "cell_type": "code",
   "execution_count": 42,
   "metadata": {},
   "outputs": [
    {
     "name": "stdout",
     "output_type": "stream",
     "text": [
      "['he' 'wo' '24' 'st' '2']\n"
     ]
    }
   ],
   "source": [
    "print(np_string3)"
   ]
  },
  {
   "cell_type": "code",
   "execution_count": 43,
   "metadata": {},
   "outputs": [],
   "source": [
    "np_string4 = np.array(['hello','world',24242,'strada'], dtype = '<U2')"
   ]
  },
  {
   "cell_type": "code",
   "execution_count": 44,
   "metadata": {},
   "outputs": [
    {
     "name": "stdout",
     "output_type": "stream",
     "text": [
      "['he' 'wo' '24' 'st']\n"
     ]
    }
   ],
   "source": [
    "print(np_string4)"
   ]
  },
  {
   "cell_type": "code",
   "execution_count": 45,
   "metadata": {},
   "outputs": [],
   "source": [
    "# list of tuples with employee id, name and salary\n",
    "\n",
    "my_employee = [(1001,'raman',25000),(1002,'vikas',30000),\n",
    "              (1003,'ritu',40000)]"
   ]
  },
  {
   "cell_type": "code",
   "execution_count": 46,
   "metadata": {},
   "outputs": [],
   "source": [
    "# assigning the alias and datatype of the aliases\n",
    "my_emp_types = [('id','int32'),('name','<U40'),('salary','int32')]"
   ]
  },
  {
   "cell_type": "code",
   "execution_count": 47,
   "metadata": {},
   "outputs": [],
   "source": [
    "emp_info = np.array(my_employee, dtype=my_emp_types)"
   ]
  },
  {
   "cell_type": "code",
   "execution_count": 48,
   "metadata": {},
   "outputs": [
    {
     "name": "stdout",
     "output_type": "stream",
     "text": [
      "[(1001, 'raman', 25000) (1002, 'vikas', 30000) (1003, 'ritu', 40000)]\n"
     ]
    }
   ],
   "source": [
    "print(emp_info)"
   ]
  },
  {
   "cell_type": "code",
   "execution_count": 49,
   "metadata": {},
   "outputs": [
    {
     "name": "stdout",
     "output_type": "stream",
     "text": [
      "[(1001, 'raman', 25000), (1002, 'vikas', 30000), (1003, 'ritu', 40000)]\n"
     ]
    }
   ],
   "source": [
    "print(my_employee)"
   ]
  },
  {
   "cell_type": "code",
   "execution_count": 50,
   "metadata": {},
   "outputs": [
    {
     "data": {
      "text/plain": [
       "list"
      ]
     },
     "execution_count": 50,
     "metadata": {},
     "output_type": "execute_result"
    }
   ],
   "source": [
    "type(my_employee)"
   ]
  },
  {
   "cell_type": "code",
   "execution_count": 51,
   "metadata": {},
   "outputs": [
    {
     "data": {
      "text/plain": [
       "numpy.ndarray"
      ]
     },
     "execution_count": 51,
     "metadata": {},
     "output_type": "execute_result"
    }
   ],
   "source": [
    "type(emp_info)"
   ]
  },
  {
   "cell_type": "markdown",
   "metadata": {},
   "source": [
    "emp_info.dtype"
   ]
  },
  {
   "cell_type": "code",
   "execution_count": 52,
   "metadata": {},
   "outputs": [
    {
     "data": {
      "text/plain": [
       "(1001, 'raman', 25000)"
      ]
     },
     "execution_count": 52,
     "metadata": {},
     "output_type": "execute_result"
    }
   ],
   "source": [
    "emp_info[0]"
   ]
  },
  {
   "cell_type": "code",
   "execution_count": 53,
   "metadata": {},
   "outputs": [
    {
     "name": "stdout",
     "output_type": "stream",
     "text": [
      "First employee is (1001, 'raman', 25000)\n"
     ]
    }
   ],
   "source": [
    "print(\"First employee is\",emp_info[0])"
   ]
  },
  {
   "cell_type": "code",
   "execution_count": 55,
   "metadata": {},
   "outputs": [],
   "source": [
    "# Here, we are creating a 2-d array\n",
    "my_2d_array1 = np.array([(3,2,1),(4,6,7),(7,1,2)])"
   ]
  },
  {
   "cell_type": "code",
   "execution_count": 56,
   "metadata": {},
   "outputs": [
    {
     "data": {
      "text/plain": [
       "(3, 3)"
      ]
     },
     "execution_count": 56,
     "metadata": {},
     "output_type": "execute_result"
    }
   ],
   "source": [
    "# shape is attribute\n",
    "\n",
    "my_2d_array1.shape"
   ]
  },
  {
   "cell_type": "code",
   "execution_count": 57,
   "metadata": {},
   "outputs": [
    {
     "data": {
      "text/plain": [
       "2"
      ]
     },
     "execution_count": 57,
     "metadata": {},
     "output_type": "execute_result"
    }
   ],
   "source": [
    "my_2d_array1.ndim"
   ]
  },
  {
   "cell_type": "code",
   "execution_count": 58,
   "metadata": {},
   "outputs": [
    {
     "data": {
      "text/plain": [
       "9"
      ]
     },
     "execution_count": 58,
     "metadata": {},
     "output_type": "execute_result"
    }
   ],
   "source": [
    "\n",
    "# size is another attribute of the numpy object\n",
    "# It gives the total number of elements in an array\n",
    "my_2d_array1.size"
   ]
  },
  {
   "cell_type": "code",
   "execution_count": 57,
   "metadata": {},
   "outputs": [],
   "source": [
    "# Now, create a 3-d array"
   ]
  },
  {
   "cell_type": "code",
   "execution_count": 59,
   "metadata": {},
   "outputs": [],
   "source": [
    "my_3d_array1 = np.array([[(2,1,3),(5,4,7)],[(4,4,2),(7,5,9)]])"
   ]
  },
  {
   "cell_type": "code",
   "execution_count": 60,
   "metadata": {},
   "outputs": [
    {
     "data": {
      "text/plain": [
       "array([[[2, 1, 3],\n",
       "        [5, 4, 7]],\n",
       "\n",
       "       [[4, 4, 2],\n",
       "        [7, 5, 9]]])"
      ]
     },
     "execution_count": 60,
     "metadata": {},
     "output_type": "execute_result"
    }
   ],
   "source": [
    "my_3d_array1"
   ]
  },
  {
   "cell_type": "code",
   "execution_count": 60,
   "metadata": {},
   "outputs": [
    {
     "data": {
      "text/plain": [
       "(2, 2, 3)"
      ]
     },
     "execution_count": 60,
     "metadata": {},
     "output_type": "execute_result"
    }
   ],
   "source": [
    "my_3d_array1.shape"
   ]
  },
  {
   "cell_type": "code",
   "execution_count": 62,
   "metadata": {},
   "outputs": [],
   "source": [
    "# This is a 4-d array\n",
    "\n",
    "my_4d_array1 = np.array([[[(2,1,3),(5,4,7)],[(4,4,2),(7,5,9)]],\n",
    "                        [[(2,8,3),(5,6,7)],[(4,2,2),(7,4,9)]]])"
   ]
  },
  {
   "cell_type": "code",
   "execution_count": 63,
   "metadata": {},
   "outputs": [
    {
     "data": {
      "text/plain": [
       "array([[[[2, 1, 3],\n",
       "         [5, 4, 7]],\n",
       "\n",
       "        [[4, 4, 2],\n",
       "         [7, 5, 9]]],\n",
       "\n",
       "\n",
       "       [[[2, 8, 3],\n",
       "         [5, 6, 7]],\n",
       "\n",
       "        [[4, 2, 2],\n",
       "         [7, 4, 9]]]])"
      ]
     },
     "execution_count": 63,
     "metadata": {},
     "output_type": "execute_result"
    }
   ],
   "source": [
    "my_4d_array1"
   ]
  },
  {
   "cell_type": "code",
   "execution_count": 64,
   "metadata": {},
   "outputs": [
    {
     "data": {
      "text/plain": [
       "(2, 2, 2, 3)"
      ]
     },
     "execution_count": 64,
     "metadata": {},
     "output_type": "execute_result"
    }
   ],
   "source": [
    "my_4d_array1.shape"
   ]
  },
  {
   "cell_type": "code",
   "execution_count": 65,
   "metadata": {},
   "outputs": [
    {
     "data": {
      "text/plain": [
       "24"
      ]
     },
     "execution_count": 65,
     "metadata": {},
     "output_type": "execute_result"
    }
   ],
   "source": [
    "my_4d_array1.size"
   ]
  },
  {
   "cell_type": "code",
   "execution_count": 66,
   "metadata": {},
   "outputs": [
    {
     "data": {
      "text/plain": [
       "4"
      ]
     },
     "execution_count": 66,
     "metadata": {},
     "output_type": "execute_result"
    }
   ],
   "source": [
    "my_4d_array1.ndim"
   ]
  },
  {
   "cell_type": "code",
   "execution_count": 67,
   "metadata": {},
   "outputs": [],
   "source": [
    "one_matrix = np.ones((4,3))"
   ]
  },
  {
   "cell_type": "code",
   "execution_count": 68,
   "metadata": {},
   "outputs": [
    {
     "data": {
      "text/plain": [
       "array([[1., 1., 1.],\n",
       "       [1., 1., 1.],\n",
       "       [1., 1., 1.],\n",
       "       [1., 1., 1.]])"
      ]
     },
     "execution_count": 68,
     "metadata": {},
     "output_type": "execute_result"
    }
   ],
   "source": [
    "one_matrix"
   ]
  },
  {
   "cell_type": "code",
   "execution_count": 70,
   "metadata": {},
   "outputs": [],
   "source": [
    "identity_mat1 = np.eye(5)"
   ]
  },
  {
   "cell_type": "code",
   "execution_count": 68,
   "metadata": {},
   "outputs": [
    {
     "data": {
      "text/plain": [
       "array([[1., 0., 0., 0., 0.],\n",
       "       [0., 1., 0., 0., 0.],\n",
       "       [0., 0., 1., 0., 0.],\n",
       "       [0., 0., 0., 1., 0.],\n",
       "       [0., 0., 0., 0., 1.]])"
      ]
     },
     "execution_count": 68,
     "metadata": {},
     "output_type": "execute_result"
    }
   ],
   "source": [
    "identity_mat1"
   ]
  },
  {
   "cell_type": "code",
   "execution_count": 69,
   "metadata": {},
   "outputs": [
    {
     "data": {
      "text/plain": [
       "array([1., 1., 1., 1., 1.])"
      ]
     },
     "execution_count": 69,
     "metadata": {},
     "output_type": "execute_result"
    }
   ],
   "source": [
    "np.diag(identity_mat1)"
   ]
  },
  {
   "cell_type": "code",
   "execution_count": 71,
   "metadata": {},
   "outputs": [],
   "source": [
    "# this will generate numbers from 1 to 100 with the spacing of 5\n",
    "data1 = np.arange(1,100,5)"
   ]
  },
  {
   "cell_type": "code",
   "execution_count": 72,
   "metadata": {},
   "outputs": [
    {
     "name": "stdout",
     "output_type": "stream",
     "text": [
      "[ 1  6 11 16 21 26 31 36 41 46 51 56 61 66 71 76 81 86 91 96]\n"
     ]
    }
   ],
   "source": [
    "print(data1)"
   ]
  },
  {
   "cell_type": "code",
   "execution_count": 73,
   "metadata": {},
   "outputs": [],
   "source": [
    "# Here, start is 1 and end is 20 and we are generating 40 numbers\n",
    " # those are equidistant from each other\n",
    "data2 = np.linspace(1,20,40)"
   ]
  },
  {
   "cell_type": "code",
   "execution_count": 74,
   "metadata": {},
   "outputs": [
    {
     "data": {
      "text/plain": [
       "array([ 1.        ,  1.48717949,  1.97435897,  2.46153846,  2.94871795,\n",
       "        3.43589744,  3.92307692,  4.41025641,  4.8974359 ,  5.38461538,\n",
       "        5.87179487,  6.35897436,  6.84615385,  7.33333333,  7.82051282,\n",
       "        8.30769231,  8.79487179,  9.28205128,  9.76923077, 10.25641026,\n",
       "       10.74358974, 11.23076923, 11.71794872, 12.20512821, 12.69230769,\n",
       "       13.17948718, 13.66666667, 14.15384615, 14.64102564, 15.12820513,\n",
       "       15.61538462, 16.1025641 , 16.58974359, 17.07692308, 17.56410256,\n",
       "       18.05128205, 18.53846154, 19.02564103, 19.51282051, 20.        ])"
      ]
     },
     "execution_count": 74,
     "metadata": {},
     "output_type": "execute_result"
    }
   ],
   "source": [
    "data2"
   ]
  },
  {
   "cell_type": "code",
   "execution_count": 74,
   "metadata": {},
   "outputs": [
    {
     "data": {
      "text/plain": [
       "numpy.ndarray"
      ]
     },
     "execution_count": 74,
     "metadata": {},
     "output_type": "execute_result"
    }
   ],
   "source": [
    "type(data2)"
   ]
  },
  {
   "cell_type": "code",
   "execution_count": 75,
   "metadata": {},
   "outputs": [
    {
     "data": {
      "text/plain": [
       "3.141592653589793"
      ]
     },
     "execution_count": 75,
     "metadata": {},
     "output_type": "execute_result"
    }
   ],
   "source": [
    "np.pi"
   ]
  },
  {
   "cell_type": "code",
   "execution_count": 76,
   "metadata": {},
   "outputs": [
    {
     "data": {
      "text/plain": [
       "(40,)"
      ]
     },
     "execution_count": 76,
     "metadata": {},
     "output_type": "execute_result"
    }
   ],
   "source": [
    "data2.shape"
   ]
  },
  {
   "cell_type": "code",
   "execution_count": 77,
   "metadata": {},
   "outputs": [],
   "source": [
    "data_new = list(data2)"
   ]
  },
  {
   "cell_type": "code",
   "execution_count": 78,
   "metadata": {},
   "outputs": [
    {
     "data": {
      "text/plain": [
       "[1.0,\n",
       " 1.4871794871794872,\n",
       " 1.9743589743589745,\n",
       " 2.4615384615384617,\n",
       " 2.948717948717949,\n",
       " 3.4358974358974357,\n",
       " 3.923076923076923,\n",
       " 4.410256410256411,\n",
       " 4.897435897435898,\n",
       " 5.384615384615384,\n",
       " 5.871794871794871,\n",
       " 6.358974358974359,\n",
       " 6.846153846153846,\n",
       " 7.333333333333333,\n",
       " 7.82051282051282,\n",
       " 8.307692307692307,\n",
       " 8.794871794871796,\n",
       " 9.282051282051281,\n",
       " 9.769230769230768,\n",
       " 10.256410256410255,\n",
       " 10.743589743589743,\n",
       " 11.23076923076923,\n",
       " 11.717948717948717,\n",
       " 12.205128205128204,\n",
       " 12.692307692307692,\n",
       " 13.179487179487179,\n",
       " 13.666666666666666,\n",
       " 14.153846153846153,\n",
       " 14.64102564102564,\n",
       " 15.128205128205128,\n",
       " 15.615384615384615,\n",
       " 16.102564102564102,\n",
       " 16.58974358974359,\n",
       " 17.076923076923077,\n",
       " 17.564102564102562,\n",
       " 18.05128205128205,\n",
       " 18.538461538461537,\n",
       " 19.025641025641026,\n",
       " 19.51282051282051,\n",
       " 20.0]"
      ]
     },
     "execution_count": 78,
     "metadata": {},
     "output_type": "execute_result"
    }
   ],
   "source": [
    "data_new"
   ]
  },
  {
   "cell_type": "code",
   "execution_count": 79,
   "metadata": {},
   "outputs": [],
   "source": [
    "import matplotlib.pyplot as plt"
   ]
  },
  {
   "cell_type": "code",
   "execution_count": 80,
   "metadata": {},
   "outputs": [],
   "source": [
    "my_x1 = np.linspace(0,2*np.pi,100)"
   ]
  },
  {
   "cell_type": "code",
   "execution_count": 81,
   "metadata": {},
   "outputs": [],
   "source": [
    "my_y1 = np.sin(my_x1)"
   ]
  },
  {
   "cell_type": "code",
   "execution_count": 82,
   "metadata": {},
   "outputs": [
    {
     "data": {
      "text/plain": [
       "[<matplotlib.lines.Line2D at 0x24c21cea088>]"
      ]
     },
     "execution_count": 82,
     "metadata": {},
     "output_type": "execute_result"
    },
    {
     "data": {
      "image/png": "[encoded data removed]",
      "text/plain": [
       "<Figure size 432x288 with 1 Axes>"
      ]
     },
     "metadata": {
      "needs_background": "light"
     },
     "output_type": "display_data"
    }
   ],
   "source": [
    "plt.plot(my_y1)"
   ]
  },
  {
   "cell_type": "code",
   "execution_count": 83,
   "metadata": {},
   "outputs": [
    {
     "data": {
      "text/plain": [
       "[<matplotlib.lines.Line2D at 0x24c21da9088>]"
      ]
     },
     "execution_count": 83,
     "metadata": {},
     "output_type": "execute_result"
    },
    {
     "data": {
      "image/png": "[encoded data removed]",
      "text/plain": [
       "<Figure size 432x288 with 1 Axes>"
      ]
     },
     "metadata": {
      "needs_background": "light"
     },
     "output_type": "display_data"
    }
   ],
   "source": [
    "plt.plot(my_x1,my_y1)"
   ]
  },
  {
   "cell_type": "code",
   "execution_count": 75,
   "metadata": {},
   "outputs": [],
   "source": [
    "data_3 = np.arange(20)"
   ]
  },
  {
   "cell_type": "code",
   "execution_count": 76,
   "metadata": {},
   "outputs": [
    {
     "data": {
      "text/plain": [
       "array([ 0,  1,  2,  3,  4,  5,  6,  7,  8,  9, 10, 11, 12, 13, 14, 15, 16,\n",
       "       17, 18, 19])"
      ]
     },
     "execution_count": 76,
     "metadata": {},
     "output_type": "execute_result"
    }
   ],
   "source": [
    "data_3"
   ]
  },
  {
   "cell_type": "code",
   "execution_count": 77,
   "metadata": {},
   "outputs": [],
   "source": [
    "data_4 = np.arange(0,20)"
   ]
  },
  {
   "cell_type": "code",
   "execution_count": 78,
   "metadata": {},
   "outputs": [
    {
     "data": {
      "text/plain": [
       "array([ 0,  1,  2,  3,  4,  5,  6,  7,  8,  9, 10, 11, 12, 13, 14, 15, 16,\n",
       "       17, 18, 19])"
      ]
     },
     "execution_count": 78,
     "metadata": {},
     "output_type": "execute_result"
    }
   ],
   "source": [
    "data_4"
   ]
  },
  {
   "cell_type": "code",
   "execution_count": 79,
   "metadata": {},
   "outputs": [],
   "source": [
    "my_data = np.arange(4,16)"
   ]
  },
  {
   "cell_type": "code",
   "execution_count": 80,
   "metadata": {},
   "outputs": [
    {
     "data": {
      "text/plain": [
       "array([ 4,  5,  6,  7,  8,  9, 10, 11, 12, 13, 14, 15])"
      ]
     },
     "execution_count": 80,
     "metadata": {},
     "output_type": "execute_result"
    }
   ],
   "source": [
    "my_data"
   ]
  },
  {
   "cell_type": "code",
   "execution_count": 83,
   "metadata": {},
   "outputs": [],
   "source": [
    "# reshape will work in the order like row, column and dimension\n",
    "\n",
    "new_array3 = data_3.reshape(5,2,2)"
   ]
  },
  {
   "cell_type": "code",
   "execution_count": 84,
   "metadata": {},
   "outputs": [
    {
     "data": {
      "text/plain": [
       "array([[[ 0,  1],\n",
       "        [ 2,  3]],\n",
       "\n",
       "       [[ 4,  5],\n",
       "        [ 6,  7]],\n",
       "\n",
       "       [[ 8,  9],\n",
       "        [10, 11]],\n",
       "\n",
       "       [[12, 13],\n",
       "        [14, 15]],\n",
       "\n",
       "       [[16, 17],\n",
       "        [18, 19]]])"
      ]
     },
     "execution_count": 84,
     "metadata": {},
     "output_type": "execute_result"
    }
   ],
   "source": [
    "new_array3"
   ]
  },
  {
   "cell_type": "code",
   "execution_count": 86,
   "metadata": {},
   "outputs": [],
   "source": [
    "# here the dimension is little different as the order is like dimension, row and column\n",
    "\n",
    "random_array1 = np.random.rand(2,3,2)"
   ]
  },
  {
   "cell_type": "code",
   "execution_count": 87,
   "metadata": {},
   "outputs": [
    {
     "data": {
      "text/plain": [
       "array([[[0.85397529, 0.49423684],\n",
       "        [0.84656149, 0.07964548],\n",
       "        [0.50524609, 0.0652865 ]],\n",
       "\n",
       "       [[0.42812233, 0.09653092],\n",
       "        [0.12715997, 0.59674531],\n",
       "        [0.226012  , 0.10694568]]])"
      ]
     },
     "execution_count": 87,
     "metadata": {},
     "output_type": "execute_result"
    }
   ],
   "source": [
    "random_array1"
   ]
  },
  {
   "cell_type": "raw",
   "metadata": {},
   "source": []
  },
  {
   "cell_type": "code",
   "execution_count": 88,
   "metadata": {},
   "outputs": [],
   "source": [
    "# generating the random data that is normally distributed\n",
    "# when data is normally distributed mean = 0 and \n",
    " # standard deviation is 1\n",
    "new_array2 = np.random.randn(100000000)"
   ]
  },
  {
   "cell_type": "code",
   "execution_count": 89,
   "metadata": {},
   "outputs": [
    {
     "data": {
      "text/plain": [
       "0.9998669831956591"
      ]
     },
     "execution_count": 89,
     "metadata": {},
     "output_type": "execute_result"
    }
   ],
   "source": [
    "np.std(new_array2)"
   ]
  },
  {
   "cell_type": "code",
   "execution_count": 90,
   "metadata": {},
   "outputs": [
    {
     "data": {
      "text/plain": [
       "0.0001012774117216022"
      ]
     },
     "execution_count": 90,
     "metadata": {},
     "output_type": "execute_result"
    }
   ],
   "source": [
    "np.mean(new_array2)"
   ]
  },
  {
   "cell_type": "code",
   "execution_count": 91,
   "metadata": {},
   "outputs": [],
   "source": [
    "import numpy as np\n",
    "# creating random integer between the range\n",
    "num1 = np.random.randint(10,60)"
   ]
  },
  {
   "cell_type": "code",
   "execution_count": 92,
   "metadata": {},
   "outputs": [
    {
     "data": {
      "text/plain": [
       "28"
      ]
     },
     "execution_count": 92,
     "metadata": {},
     "output_type": "execute_result"
    }
   ],
   "source": [
    "num1"
   ]
  },
  {
   "cell_type": "code",
   "execution_count": 93,
   "metadata": {},
   "outputs": [],
   "source": [
    "np.random.seed(100)"
   ]
  },
  {
   "cell_type": "code",
   "execution_count": 94,
   "metadata": {},
   "outputs": [],
   "source": [
    "# creating a numpy array of integer type of length 9 in between 10 and 100\n",
    "array1 = np.random.randint(10,100,9)"
   ]
  },
  {
   "cell_type": "code",
   "execution_count": 95,
   "metadata": {},
   "outputs": [
    {
     "data": {
      "text/plain": [
       "array([18, 34, 77, 97, 89, 58, 20, 62, 63])"
      ]
     },
     "execution_count": 95,
     "metadata": {},
     "output_type": "execute_result"
    }
   ],
   "source": [
    "array1"
   ]
  },
  {
   "cell_type": "code",
   "execution_count": 96,
   "metadata": {},
   "outputs": [],
   "source": [
    "# task\n",
    "# do a vectorized addition of two arrays\n",
    "\n",
    "# create two matrix and do mathematical operations on that \n",
    "array2 = np.random.randint(10,100,9)"
   ]
  },
  {
   "cell_type": "code",
   "execution_count": 97,
   "metadata": {},
   "outputs": [],
   "source": [
    "mat1 = array1.reshape(3,3)"
   ]
  },
  {
   "cell_type": "code",
   "execution_count": 98,
   "metadata": {},
   "outputs": [],
   "source": [
    "mat2 = array2.reshape(3,3)"
   ]
  },
  {
   "cell_type": "code",
   "execution_count": 99,
   "metadata": {},
   "outputs": [
    {
     "data": {
      "text/plain": [
       "array([[18, 34, 77],\n",
       "       [97, 89, 58],\n",
       "       [20, 62, 63]])"
      ]
     },
     "execution_count": 99,
     "metadata": {},
     "output_type": "execute_result"
    }
   ],
   "source": [
    "mat1"
   ]
  },
  {
   "cell_type": "code",
   "execution_count": 100,
   "metadata": {},
   "outputs": [
    {
     "data": {
      "text/plain": [
       "array([[76, 24, 44],\n",
       "       [34, 25, 70],\n",
       "       [68, 26, 19]])"
      ]
     },
     "execution_count": 100,
     "metadata": {},
     "output_type": "execute_result"
    }
   ],
   "source": [
    "mat2"
   ]
  },
  {
   "cell_type": "code",
   "execution_count": 101,
   "metadata": {},
   "outputs": [],
   "source": [
    "matrix_mult1 = mat1.dot(mat2)"
   ]
  },
  {
   "cell_type": "code",
   "execution_count": 102,
   "metadata": {},
   "outputs": [
    {
     "data": {
      "text/plain": [
       "array([[ 7760,  3284,  4635],\n",
       "       [14342,  6061, 11600],\n",
       "       [ 7912,  3668,  6417]])"
      ]
     },
     "execution_count": 102,
     "metadata": {},
     "output_type": "execute_result"
    }
   ],
   "source": [
    "   matrix_mult1"
   ]
  },
  {
   "cell_type": "code",
   "execution_count": 103,
   "metadata": {},
   "outputs": [],
   "source": [
    "matrix_mult2 = np.dot(mat1,mat2)"
   ]
  },
  {
   "cell_type": "code",
   "execution_count": 104,
   "metadata": {},
   "outputs": [
    {
     "data": {
      "text/plain": [
       "array([[ 7760,  3284,  4635],\n",
       "       [14342,  6061, 11600],\n",
       "       [ 7912,  3668,  6417]])"
      ]
     },
     "execution_count": 104,
     "metadata": {},
     "output_type": "execute_result"
    }
   ],
   "source": [
    "matrix_mult2"
   ]
  },
  {
   "cell_type": "code",
   "execution_count": 108,
   "metadata": {},
   "outputs": [
    {
     "data": {
      "text/plain": [
       "array([[18, 34, 77],\n",
       "       [97, 89, 58],\n",
       "       [20, 62, 63]])"
      ]
     },
     "execution_count": 108,
     "metadata": {},
     "output_type": "execute_result"
    }
   ],
   "source": [
    "mat1"
   ]
  },
  {
   "cell_type": "code",
   "execution_count": 105,
   "metadata": {},
   "outputs": [
    {
     "data": {
      "text/plain": [
       "518"
      ]
     },
     "execution_count": 105,
     "metadata": {},
     "output_type": "execute_result"
    }
   ],
   "source": [
    "mat1.sum()"
   ]
  },
  {
   "cell_type": "code",
   "execution_count": 109,
   "metadata": {},
   "outputs": [
    {
     "data": {
      "text/plain": [
       "array([135, 185, 198])"
      ]
     },
     "execution_count": 109,
     "metadata": {},
     "output_type": "execute_result"
    }
   ],
   "source": [
    "# axis = 0 means rows and axis = 1 means columns\n",
    "\n",
    "mat1.sum(axis=0)"
   ]
  },
  {
   "cell_type": "code",
   "execution_count": 106,
   "metadata": {},
   "outputs": [],
   "source": [
    "array3 = np.random.randint(10,20,9)"
   ]
  },
  {
   "cell_type": "code",
   "execution_count": 108,
   "metadata": {},
   "outputs": [
    {
     "data": {
      "text/plain": [
       "array([16, 12, 14, 11, 15, 13, 14, 14, 13])"
      ]
     },
     "execution_count": 108,
     "metadata": {},
     "output_type": "execute_result"
    }
   ],
   "source": [
    "array3"
   ]
  },
  {
   "cell_type": "code",
   "execution_count": 109,
   "metadata": {},
   "outputs": [],
   "source": [
    "mat3 = array3.reshape(3,3)"
   ]
  },
  {
   "cell_type": "code",
   "execution_count": 110,
   "metadata": {},
   "outputs": [
    {
     "data": {
      "text/plain": [
       "array([[16, 12, 14],\n",
       "       [11, 15, 13],\n",
       "       [14, 14, 13]])"
      ]
     },
     "execution_count": 110,
     "metadata": {},
     "output_type": "execute_result"
    }
   ],
   "source": [
    "mat3"
   ]
  },
  {
   "cell_type": "code",
   "execution_count": 111,
   "metadata": {},
   "outputs": [
    {
     "data": {
      "text/plain": [
       "array([[16, 12, 14],\n",
       "       [27, 27, 27],\n",
       "       [41, 41, 40]], dtype=int32)"
      ]
     },
     "execution_count": 111,
     "metadata": {},
     "output_type": "execute_result"
    }
   ],
   "source": [
    "# for cummulative sum column wise, means data of each column will be added commulatively \n",
    "mat3.cumsum(axis=0)"
   ]
  },
  {
   "cell_type": "code",
   "execution_count": 112,
   "metadata": {},
   "outputs": [
    {
     "data": {
      "text/plain": [
       "array([[16, 28, 42],\n",
       "       [11, 26, 39],\n",
       "       [14, 28, 41]], dtype=int32)"
      ]
     },
     "execution_count": 112,
     "metadata": {},
     "output_type": "execute_result"
    }
   ],
   "source": [
    "mat3.cumsum(axis=1)"
   ]
  },
  {
   "cell_type": "code",
   "execution_count": 113,
   "metadata": {},
   "outputs": [
    {
     "data": {
      "text/plain": [
       "20.085536923187668"
      ]
     },
     "execution_count": 113,
     "metadata": {},
     "output_type": "execute_result"
    }
   ],
   "source": [
    "np.exp(3)\n",
    "\n"
   ]
  },
  {
   "cell_type": "code",
   "execution_count": 114,
   "metadata": {},
   "outputs": [
    {
     "data": {
      "text/plain": [
       "10.0"
      ]
     },
     "execution_count": 114,
     "metadata": {},
     "output_type": "execute_result"
    }
   ],
   "source": [
    "np.sqrt(100)"
   ]
  },
  {
   "cell_type": "code",
   "execution_count": 118,
   "metadata": {},
   "outputs": [
    {
     "data": {
      "text/plain": [
       "array([1, 1, 0], dtype=int64)"
      ]
     },
     "execution_count": 118,
     "metadata": {},
     "output_type": "execute_result"
    }
   ],
   "source": [
    "\n",
    "# will return the indices of the maximum column wise\n",
    "np.argmax(mat1,axis = 0)"
   ]
  },
  {
   "cell_type": "code",
   "execution_count": 115,
   "metadata": {},
   "outputs": [],
   "source": [
    "# did yesterday\n",
    "data1 = np.linspace(1,10,40)"
   ]
  },
  {
   "cell_type": "code",
   "execution_count": 116,
   "metadata": {},
   "outputs": [
    {
     "data": {
      "text/plain": [
       "array([ 1.        ,  1.23076923,  1.46153846,  1.69230769,  1.92307692,\n",
       "        2.15384615,  2.38461538,  2.61538462,  2.84615385,  3.07692308,\n",
       "        3.30769231,  3.53846154,  3.76923077,  4.        ,  4.23076923,\n",
       "        4.46153846,  4.69230769,  4.92307692,  5.15384615,  5.38461538,\n",
       "        5.61538462,  5.84615385,  6.07692308,  6.30769231,  6.53846154,\n",
       "        6.76923077,  7.        ,  7.23076923,  7.46153846,  7.69230769,\n",
       "        7.92307692,  8.15384615,  8.38461538,  8.61538462,  8.84615385,\n",
       "        9.07692308,  9.30769231,  9.53846154,  9.76923077, 10.        ])"
      ]
     },
     "execution_count": 116,
     "metadata": {},
     "output_type": "execute_result"
    }
   ],
   "source": [
    "data1"
   ]
  },
  {
   "cell_type": "code",
   "execution_count": 117,
   "metadata": {},
   "outputs": [
    {
     "data": {
      "text/plain": [
       "array([1.92307692, 2.15384615, 2.38461538, 2.61538462, 2.84615385,\n",
       "       3.07692308])"
      ]
     },
     "execution_count": 117,
     "metadata": {},
     "output_type": "execute_result"
    }
   ],
   "source": [
    "# called as slicing and dicing \n",
    "# Here, we are generating data from index 4 to 9 \n",
    "# 10th index is getting excluded\n",
    "data1[4:10]"
   ]
  },
  {
   "cell_type": "code",
   "execution_count": 122,
   "metadata": {},
   "outputs": [
    {
     "data": {
      "text/plain": [
       "array([1.        , 1.46153846, 1.92307692, 2.38461538, 2.84615385,\n",
       "       3.30769231, 3.76923077, 4.23076923, 4.69230769, 5.15384615])"
      ]
     },
     "execution_count": 122,
     "metadata": {},
     "output_type": "execute_result"
    }
   ],
   "source": [
    "# slicing by skipping one element in between\n",
    "data1[0:20:2]"
   ]
  },
  {
   "cell_type": "code",
   "execution_count": 123,
   "metadata": {},
   "outputs": [
    {
     "data": {
      "text/plain": [
       "array([ 2.84615385,  3.07692308,  3.30769231,  3.53846154,  3.76923077,\n",
       "        4.        ,  4.23076923,  4.46153846,  4.69230769,  4.92307692,\n",
       "        5.15384615,  5.38461538,  5.61538462,  5.84615385,  6.07692308,\n",
       "        6.30769231,  6.53846154,  6.76923077,  7.        ,  7.23076923,\n",
       "        7.46153846,  7.69230769,  7.92307692,  8.15384615,  8.38461538,\n",
       "        8.61538462,  8.84615385,  9.07692308,  9.30769231,  9.53846154,\n",
       "        9.76923077, 10.        ])"
      ]
     },
     "execution_count": 123,
     "metadata": {},
     "output_type": "execute_result"
    }
   ],
   "source": [
    "# taking all the elements from 8 to end\n",
    "data1[8:]"
   ]
  },
  {
   "cell_type": "code",
   "execution_count": 124,
   "metadata": {},
   "outputs": [
    {
     "data": {
      "text/plain": [
       "array([ 1.        ,  1.23076923,  1.46153846,  1.69230769,  1.92307692,\n",
       "        2.15384615,  2.38461538,  2.61538462,  2.84615385,  3.07692308,\n",
       "        3.30769231,  3.53846154,  3.76923077,  4.        ,  4.23076923,\n",
       "        4.46153846,  4.69230769,  4.92307692,  5.15384615,  5.38461538,\n",
       "        5.61538462,  5.84615385,  6.07692308,  6.30769231,  6.53846154,\n",
       "        6.76923077,  7.        ,  7.23076923,  7.46153846,  7.69230769,\n",
       "        7.92307692,  8.15384615,  8.38461538,  8.61538462,  8.84615385,\n",
       "        9.07692308,  9.30769231,  9.53846154,  9.76923077, 10.        ])"
      ]
     },
     "execution_count": 124,
     "metadata": {},
     "output_type": "execute_result"
    }
   ],
   "source": [
    "# printing all the elements\n",
    "data1[:]"
   ]
  },
  {
   "cell_type": "code",
   "execution_count": 125,
   "metadata": {},
   "outputs": [],
   "source": [
    "array3 = np.random.randint(1,200,40)"
   ]
  },
  {
   "cell_type": "code",
   "execution_count": 126,
   "metadata": {},
   "outputs": [],
   "source": [
    "mat3 = array3.reshape(8,5)"
   ]
  },
  {
   "cell_type": "code",
   "execution_count": 127,
   "metadata": {},
   "outputs": [
    {
     "data": {
      "text/plain": [
       "array([[136,  50, 176, 194,  62],\n",
       "       [ 15, 184,  81,   3, 122],\n",
       "       [106, 148,  64, 182,  28],\n",
       "       [ 57, 114, 159, 177,  48],\n",
       "       [168, 110,  39, 173,  19],\n",
       "       [193, 185, 163, 182,  18],\n",
       "       [ 73,  14, 107,  31,  18],\n",
       "       [ 54,  69, 179,  92, 182]])"
      ]
     },
     "execution_count": 127,
     "metadata": {},
     "output_type": "execute_result"
    }
   ],
   "source": [
    "mat3"
   ]
  },
  {
   "cell_type": "code",
   "execution_count": 128,
   "metadata": {},
   "outputs": [
    {
     "data": {
      "text/plain": [
       "array([[114, 159],\n",
       "       [110,  39],\n",
       "       [185, 163]])"
      ]
     },
     "execution_count": 128,
     "metadata": {},
     "output_type": "execute_result"
    }
   ],
   "source": [
    "# slicing a window from a matrix\n",
    "mat3[3:6,1:3]"
   ]
  },
  {
   "cell_type": "code",
   "execution_count": 129,
   "metadata": {},
   "outputs": [],
   "source": [
    "# create a 3-d matrix using randint function of numpy\n",
    "\n",
    "my_3d_array1 = np.random.randint(0,10,size = (3,4,3))"
   ]
  },
  {
   "cell_type": "code",
   "execution_count": 130,
   "metadata": {},
   "outputs": [
    {
     "data": {
      "text/plain": [
       "array([[[0, 9, 3],\n",
       "        [6, 3, 4],\n",
       "        [7, 6, 3],\n",
       "        [9, 0, 4]],\n",
       "\n",
       "       [[4, 5, 7],\n",
       "        [6, 6, 2],\n",
       "        [4, 2, 7],\n",
       "        [1, 6, 6]],\n",
       "\n",
       "       [[0, 7, 2],\n",
       "        [3, 5, 4],\n",
       "        [2, 4, 3],\n",
       "        [7, 9, 0]]])"
      ]
     },
     "execution_count": 130,
     "metadata": {},
     "output_type": "execute_result"
    }
   ],
   "source": [
    "my_3d_array1"
   ]
  },
  {
   "cell_type": "code",
   "execution_count": 131,
   "metadata": {},
   "outputs": [
    {
     "name": "stdout",
     "output_type": "stream",
     "text": [
      "0\n",
      "9\n",
      "3\n",
      "#####\n",
      "6\n",
      "3\n",
      "4\n",
      "#####\n",
      "7\n",
      "6\n",
      "3\n",
      "#####\n",
      "9\n",
      "0\n",
      "4\n",
      "#####\n",
      "4\n",
      "5\n",
      "7\n",
      "#####\n",
      "6\n",
      "6\n",
      "2\n",
      "#####\n",
      "4\n",
      "2\n",
      "7\n",
      "#####\n",
      "1\n",
      "6\n",
      "6\n",
      "#####\n",
      "0\n",
      "7\n",
      "2\n",
      "#####\n",
      "3\n",
      "5\n",
      "4\n",
      "#####\n",
      "2\n",
      "4\n",
      "3\n",
      "#####\n",
      "7\n",
      "9\n",
      "0\n",
      "#####\n"
     ]
    }
   ],
   "source": [
    "# printing every row\n",
    "for mat in my_3d_array1:\n",
    "   for row in mat:\n",
    "    for ele in row:\n",
    "        print(ele)\n",
    "    print(\"#####\")    "
   ]
  },
  {
   "cell_type": "code",
   "execution_count": 132,
   "metadata": {},
   "outputs": [],
   "source": [
    "# ravel() is the command to break the dimension into single dimension data .\n",
    "\n",
    "data_3d = my_3d_array1.ravel()"
   ]
  },
  {
   "cell_type": "code",
   "execution_count": 133,
   "metadata": {},
   "outputs": [
    {
     "data": {
      "text/plain": [
       "array([0, 9, 3, 6, 3, 4, 7, 6, 3, 9, 0, 4, 4, 5, 7, 6, 6, 2, 4, 2, 7, 1,\n",
       "       6, 6, 0, 7, 2, 3, 5, 4, 2, 4, 3, 7, 9, 0])"
      ]
     },
     "execution_count": 133,
     "metadata": {},
     "output_type": "execute_result"
    }
   ],
   "source": [
    "data_3d"
   ]
  },
  {
   "cell_type": "code",
   "execution_count": 134,
   "metadata": {},
   "outputs": [
    {
     "data": {
      "text/plain": [
       "numpy.ndarray"
      ]
     },
     "execution_count": 134,
     "metadata": {},
     "output_type": "execute_result"
    }
   ],
   "source": [
    "type(data_3d)"
   ]
  },
  {
   "cell_type": "code",
   "execution_count": null,
   "metadata": {},
   "outputs": [],
   "source": []
  }
 ],
 "metadata": {
  "kernelspec": {
   "display_name": "Python 3",
   "language": "python",
   "name": "python3"
  },
  "language_info": {
   "codemirror_mode": {
    "name": "ipython",
    "version": 3
   },
   "file_extension": ".py",
   "mimetype": "text/x-python",
   "name": "python",
   "nbconvert_exporter": "python",
   "pygments_lexer": "ipython3",
   "version": "3.7.6"
  }
 },
 "nbformat": 4,
 "nbformat_minor": 2
}
